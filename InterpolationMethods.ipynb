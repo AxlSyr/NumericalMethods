{
  "nbformat": 4,
  "nbformat_minor": 0,
  "metadata": {
    "colab": {
      "name": "InterpolationMethods.ipynb",
      "provenance": [],
      "collapsed_sections": [],
      "authorship_tag": "ABX9TyNI7AH03tGZulgatHpGKhcC",
      "include_colab_link": true
    },
    "kernelspec": {
      "name": "python3",
      "display_name": "Python 3"
    }
  },
  "cells": [
    {
      "cell_type": "markdown",
      "metadata": {
        "id": "view-in-github",
        "colab_type": "text"
      },
      "source": [
        "<a href=\"https://colab.research.google.com/github/AxlSyr/NumericalMethods/blob/main/InterpolationMethods.ipynb\" target=\"_parent\"><img src=\"https://colab.research.google.com/assets/colab-badge.svg\" alt=\"Open In Colab\"/></a>"
      ]
    },
    {
      "cell_type": "code",
      "metadata": {
        "id": "oQQBwIbfwH9v"
      },
      "source": [
        "import sympy \r\n",
        "\r\n",
        "x = sympy.symbols('x')"
      ],
      "execution_count": 1,
      "outputs": []
    },
    {
      "cell_type": "code",
      "metadata": {
        "id": "B0esIqbIibAg"
      },
      "source": [
        "class Data:\r\n",
        "    def __init__(self, x, y):\r\n",
        "        self.x = x\r\n",
        "        self.y = y"
      ],
      "execution_count": 2,
      "outputs": []
    },
    {
      "cell_type": "markdown",
      "metadata": {
        "id": "4PY_1Nsjgzin"
      },
      "source": [
        "Lagrange"
      ]
    },
    {
      "cell_type": "code",
      "metadata": {
        "id": "Bc-wftmaYipc"
      },
      "source": [
        "def lagrange(values):\r\n",
        "    y = 0\r\n",
        "    for i in range(len(values)):\r\n",
        "        aux = 1\r\n",
        "        for j in range(len(values)):\r\n",
        "            if j != i:\r\n",
        "                aux *= (x-values[j].x)/(values[i].x-values[j].x)\r\n",
        "        y += aux*values[i].y\r\n",
        "    return y"
      ],
      "execution_count": 3,
      "outputs": []
    },
    {
      "cell_type": "code",
      "metadata": {
        "colab": {
          "base_uri": "https://localhost:8080/"
        },
        "id": "II_Hkdb_wGWk",
        "outputId": "8c8ba89d-6f7b-4321-d022-10681b28c755"
      },
      "source": [
        "resultado = lagrange([Data(1, 3), Data(3/2, 13/4), Data(0, 3), Data(2, 5/3)])\r\n",
        "print(resultado)\r\n",
        "sympy.simplify(resultado)"
      ],
      "execution_count": 4,
      "outputs": [
        {
          "output_type": "stream",
          "text": [
            "3*x*(-2.0*x + 3.0)*(-x + 2) + 2.16666666666667*x*(-2.0*x + 4.0)*(2.0*x - 2.0) + 0.833333333333333*x*(x - 1)*(2.0*x - 3.0) + 3*(-x + 1)*(-0.666666666666667*x + 1.0)*(-x/2 + 1)\n"
          ],
          "name": "stdout"
        },
        {
          "output_type": "execute_result",
          "data": {
            "text/plain": [
              "-2.0*x**3 + 5.33333333333333*x**2 - 3.33333333333333*x + 3.0"
            ]
          },
          "metadata": {
            "tags": []
          },
          "execution_count": 4
        }
      ]
    },
    {
      "cell_type": "markdown",
      "metadata": {
        "id": "DBtdIeN2g3Wy"
      },
      "source": [
        "Newton"
      ]
    },
    {
      "cell_type": "code",
      "metadata": {
        "id": "ttXFHMGzX7EE"
      },
      "source": [
        "def newton(values):\r\n",
        "    res = ''\r\n",
        "    for i in range(len(values)):\r\n",
        "        var = ''\r\n",
        "        for j in range(i):\r\n",
        "            var += '*' + '(x-' + str(values[j].x)+')'\r\n",
        "        if i == len(values)-1:\r\n",
        "            res += 'a' + str(i) + var\r\n",
        "        else:\r\n",
        "            res += 'a' + str(i) + var + '+'\r\n",
        "    return sympy.sympify(res)"
      ],
      "execution_count": 5,
      "outputs": []
    },
    {
      "cell_type": "code",
      "metadata": {
        "colab": {
          "base_uri": "https://localhost:8080/"
        },
        "id": "BxcoRMsQwNNb",
        "outputId": "4db42fc8-60c8-4b70-fe76-4410c6d6b985"
      },
      "source": [
        "resultado = newton([Data(1, 3), Data(3/2, 13/4), Data(0, 3), Data(2, 5/3)])\r\n",
        "print(resultado)"
      ],
      "execution_count": 6,
      "outputs": [
        {
          "output_type": "stream",
          "text": [
            "a0 + a1*(x - 1) + a2*(x - 1.5)*(x - 1) + a3*x*(x - 1.5)*(x - 1)\n"
          ],
          "name": "stdout"
        }
      ]
    },
    {
      "cell_type": "markdown",
      "metadata": {
        "id": "_zYXXFGkgwMg"
      },
      "source": [
        "Divided Differences"
      ]
    },
    {
      "cell_type": "code",
      "metadata": {
        "id": "guZuWfphV_DN"
      },
      "source": [
        "def dividedDifferences(values):\r\n",
        "    table = [[] for i in values]\r\n",
        "    table[0] = [values[i].y for i in range(len(values))]\r\n",
        "\r\n",
        "    for i in range(1, len(values)):\r\n",
        "        for j in range(len(values) - i):\r\n",
        "            f = '(' + str(table[i - 1][j + 1]) + '-' + str(table[i - 1][j])+ ')/(' + str(values[j+i].x) + '-' + str(values[j].x) + ')'\r\n",
        "            table[i].insert(j, sympy.sympify(f))\r\n",
        "    res = newton(values)\r\n",
        "\r\n",
        "    for i in range(len(values)):\r\n",
        "        res = res.replace('a'+str(i), table[i][0])\r\n",
        "    \r\n",
        "    return sympy.sympify(res)"
      ],
      "execution_count": 7,
      "outputs": []
    },
    {
      "cell_type": "code",
      "metadata": {
        "colab": {
          "base_uri": "https://localhost:8080/"
        },
        "id": "4LQuXNr5oUc0",
        "outputId": "298ed0fc-b681-431d-da77-3db2d3d968c7"
      },
      "source": [
        "resultado = dividedDifferences([Data(1, 3), Data(3/2, 13/4), Data(0, 3), Data(2, 5/3)])\r\n",
        "print(resultado)\r\n",
        "sympy.simplify(resultado)"
      ],
      "execution_count": 8,
      "outputs": [
        {
          "output_type": "stream",
          "text": [
            "-2.0000000000000003*x*(x - 1.5)*(x - 1) + 0.5*x + 0.333333333333333*(x - 1.5)*(x - 1) + 2.5\n"
          ],
          "name": "stdout"
        },
        {
          "output_type": "execute_result",
          "data": {
            "text/plain": [
              "-2.0000000000000003*x**3 + 5.3333333333333337*x**2 - 3.333333333333333*x + 2.9999999999999996"
            ]
          },
          "metadata": {
            "tags": []
          },
          "execution_count": 8
        }
      ]
    }
  ]
}